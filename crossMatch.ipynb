{
 "cells": [
  {
   "cell_type": "markdown",
   "metadata": {},
   "source": [
    "# GAIA DR2 cross-match"
   ]
  },
  {
   "cell_type": "code",
   "execution_count": null,
   "metadata": {
    "collapsed": true
   },
   "outputs": [],
   "source": [
    "# Authors: Lauren Anderson, Megan Bedell, Chiara Mingarelli\n",
    "# Please cite Mingarelli, Anderson, Bedell and Spergel (in prep)"
   ]
  },
  {
   "cell_type": "code",
   "execution_count": null,
   "metadata": {
    "collapsed": true
   },
   "outputs": [],
   "source": [
    "# %load query.py\n",
    "import numpy as np\n",
    "from astropy import units as u\n",
    "from astropy.io import ascii\n",
    "from astroquery.xmatch import XMatch\n",
    "import requests"
   ]
  },
  {
   "cell_type": "code",
   "execution_count": null,
   "metadata": {
    "collapsed": true
   },
   "outputs": [],
   "source": [
    "# %load query.py\n",
    "import numpy as np\n",
    "import glob\n",
    "\n",
    "from astropy import units as u\n",
    "from astropy.io import ascii\n",
    "from astroquery.xmatch import XMatch\n",
    "from astropy.table import Table, vstack\n",
    "from astropy.coordinates import SkyCoord, ICRS, Galactic, Angle\n",
    "from astropy.time import Time"
   ]
  },
  {
   "cell_type": "markdown",
   "metadata": {},
   "source": [
    "## Upload your files with the info you'd like to cross-match with GAIA DR2"
   ]
  },
  {
   "cell_type": "code",
   "execution_count": null,
   "metadata": {
    "collapsed": true
   },
   "outputs": [],
   "source": [
    "files = glob.glob('../IPTA_DR1/*/*.par') # We are interested in pulsars, these files contain their parameters"
   ]
  },
  {
   "cell_type": "markdown",
   "metadata": {},
   "source": [
    "## Here we parse the pulsar .par files to get the known pulsar positions and proper motions. This is specific to the pulsar data format used by the International Pulsar Timing Array."
   ]
  },
  {
   "cell_type": "code",
   "execution_count": null,
   "metadata": {
    "collapsed": true
   },
   "outputs": [],
   "source": [
    "RAs = []\n",
    "DECs = []\n",
    "Names = []\n",
    "pmra = []\n",
    "pmdec = []\n",
    "pepoch = []\n",
    "posepoch = []\n",
    "dmepoch = []\n",
    "dm = []\n",
    "coords = []\n",
    "\n",
    "for file in files:\n",
    "    d = {}\n",
    "    with open(file) as f:\n",
    "        for line in f:\n",
    "            key = line.split()[0]\n",
    "            value = line.split()[1]\n",
    "            d[key] = value\n",
    "            \n",
    "    try:\n",
    "        ra = Angle(d['RAJ'], u.hourangle).to(u.deg)\n",
    "        dec = Angle(d['DECJ'], u.degree)\n",
    "        coord = SkyCoord(ra=ra, dec=dec, frame='icrs',\n",
    "                     pm_ra_cosdec = float(d['PMRA'])*u.mas/u.yr, # bug updated, thanks Paul Ray\n",
    "                     pm_dec=float(d['PMDEC'])*u.mas/u.yr,\n",
    "                     obstime=Time(float(d['POSEPOCH']), format='mjd'),\n",
    "                     distance=1. * u.kpc) # HACK\n",
    "        coords.append(coord)\n",
    "        RAs.append(ra.value)\n",
    "        #print(d['PSRJ'], d['DECJ'])\n",
    "        DECs.append(dec.value)\n",
    "        Names.append(d['PSRJ'])\n",
    "        pmra.append(coord.pm_ra_cosdec.value)\n",
    "        pmdec.append(coord.pm_dec.value)\n",
    "        pepoch.append(d['PEPOCH'])\n",
    "        posepoch.append(d['POSEPOCH'])\n",
    "        dmepoch.append(d['DMEPOCH'])\n",
    "        dm.append(d['DM'])\n",
    "        \n",
    "    except KeyError:\n",
    "        lon = float(d['ELONG'])*u.deg\n",
    "        lat = float(d['ELAT'])*u.deg\n",
    "        coord = SkyCoord(l=lon, b=lat, frame='galactic',\n",
    "                         pm_l_cosb = float(d['PMELONG'])*np.cos(lat.to(u.rad))*u.mas/u.yr, \n",
    "                         pm_b=float(d['PMELAT'])*u.mas/u.yr,\n",
    "                         obstime=Time(float(d['POSEPOCH']), format='mjd'),\n",
    "                         distance=1. * u.kpc) # HACKITY HACK HACK\n",
    "        icrscoord = coord.transform_to(ICRS)\n",
    "        coords.append(icrscoord)\n",
    "        #print(icrscoord)\n",
    "        #print(d['PSRJ'])\n",
    "        RAs.append(icrscoord.ra.to(u.deg).value)\n",
    "        DECs.append(icrscoord.dec.to(u.deg).value)\n",
    "        Names.append(d['PSRJ'])\n",
    "        pmra.append((icrscoord.pm_ra_cosdec/np.cos(icrscoord.dec.to(u.rad))).value)\n",
    "        pmdec.append(icrscoord.pm_dec.value)\n",
    "        pepoch.append(d['PEPOCH'])\n",
    "        posepoch.append(d['POSEPOCH'])\n",
    "        dmepoch.append(d['DMEPOCH'])\n",
    "        dm.append(d['DM'])        \n",
    "        #coord = SkyCoord(d[''])\n",
    "        \n",
    "        continue\n",
    "        \n",
    "t = Table([Names, RAs, DECs, pmra, pmdec, pepoch, posepoch, dmepoch, dm], names=['names', 'ra', 'dec', 'pmra', 'pmdec', 'dm', 'pepoch', 'posepoch', 'dmepoch'])        \n",
    "#tmin = Table([RAs, DECs], names=['ra', 'dec'])\n"
   ]
  },
  {
   "cell_type": "code",
   "execution_count": null,
   "metadata": {
    "collapsed": true
   },
   "outputs": [],
   "source": [
    "# Test"
   ]
  },
  {
   "cell_type": "code",
   "execution_count": null,
   "metadata": {
    "collapsed": true
   },
   "outputs": [],
   "source": [
    "print(coords[0].apply_space_motion(new_obstime=Time(57023., format='mjd')))"
   ]
  },
  {
   "cell_type": "code",
   "execution_count": null,
   "metadata": {
    "collapsed": true
   },
   "outputs": [],
   "source": [
    "gaia_time = Time(57023., format='mjd')"
   ]
  },
  {
   "cell_type": "markdown",
   "metadata": {},
   "source": [
    "## Here we propagate the pulsar proper motion to update them to the GAIA DR2 reference epoch."
   ]
  },
  {
   "cell_type": "code",
   "execution_count": null,
   "metadata": {
    "collapsed": true
   },
   "outputs": [],
   "source": [
    "t['ra'] = [c.apply_space_motion(new_obstime=gaia_time).ra.value for c in coords]\n",
    "t['dec'] = [c.apply_space_motion(new_obstime=gaia_time).dec.value for c in coords]"
   ]
  },
  {
   "cell_type": "code",
   "execution_count": null,
   "metadata": {
    "collapsed": true
   },
   "outputs": [],
   "source": [
    "t.write('ipta_data.csv', format='csv', overwrite=True)\n"
   ]
  },
  {
   "cell_type": "markdown",
   "metadata": {},
   "source": [
    "# We tell the x-match server that we want to search GAIA DR2 for objcts at the RA and DEC we specifiy in our file, within a 3 arsecond search radius."
   ]
  },
  {
   "cell_type": "code",
   "execution_count": null,
   "metadata": {
    "collapsed": true
   },
   "outputs": [],
   "source": [
    "r = requests.post(\n",
    "'http://cdsxmatch.u-strasbg.fr/xmatch/api/v1/sync',\n",
    "data={'request': 'xmatch', 'distMaxArcsec': 3.0, 'RESPONSEFORMAT': 'csv',\n",
    "'cat2': 'vizier:I/345/gaia2', 'colRA1': 'ra', 'colDec1': 'dec'},\n",
    "files={'cat1': open('ipta_data.csv', 'r')})"
   ]
  },
  {
   "cell_type": "code",
   "execution_count": null,
   "metadata": {
    "collapsed": true
   },
   "outputs": [],
   "source": [
    "# Test\n",
    "print(r.text)"
   ]
  },
  {
   "cell_type": "code",
   "execution_count": null,
   "metadata": {
    "collapsed": true
   },
   "outputs": [],
   "source": [
    "h = open('ipta_crossmatch_3arcsecond.csv', 'w')\n",
    "h.write(r.text)\n",
    "h.close()"
   ]
  },
  {
   "cell_type": "code",
   "execution_count": null,
   "metadata": {
    "collapsed": true
   },
   "outputs": [],
   "source": []
  },
  {
   "cell_type": "code",
   "execution_count": null,
   "metadata": {
    "collapsed": true
   },
   "outputs": [],
   "source": []
  },
  {
   "cell_type": "code",
   "execution_count": null,
   "metadata": {
    "collapsed": true
   },
   "outputs": [],
   "source": []
  }
 ],
 "metadata": {
  "kernelspec": {
   "display_name": "Python 2",
   "language": "python",
   "name": "python2"
  },
  "language_info": {
   "codemirror_mode": {
    "name": "ipython",
    "version": 2
   },
   "file_extension": ".py",
   "mimetype": "text/x-python",
   "name": "python",
   "nbconvert_exporter": "python",
   "pygments_lexer": "ipython2",
   "version": "2.7.13"
  }
 },
 "nbformat": 4,
 "nbformat_minor": 2
}
