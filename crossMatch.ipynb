{
 "cells": [
  {
   "cell_type": "markdown",
   "metadata": {},
   "source": [
    "# GAIA DR2 cross-match"
   ]
  },
  {
   "cell_type": "code",
   "execution_count": 1,
   "metadata": {
    "collapsed": true
   },
   "outputs": [],
   "source": [
    "# Authors: Lauren Anderson, Megan Bedell, Chiara Mingarelli\n",
    "# Please cite Mingarelli, Anderson, Bedell and Spergel (in prep)"
   ]
  },
  {
   "cell_type": "code",
   "execution_count": 2,
   "metadata": {
    "collapsed": true
   },
   "outputs": [],
   "source": [
    "# %load query.py\n",
    "import numpy as np\n",
    "from astropy import units as u\n",
    "from astropy.io import ascii\n",
    "from astroquery.xmatch import XMatch\n",
    "import requests"
   ]
  },
  {
   "cell_type": "code",
   "execution_count": 3,
   "metadata": {
    "collapsed": true
   },
   "outputs": [],
   "source": [
    "# %load query.py\n",
    "import numpy as np\n",
    "import glob\n",
    "\n",
    "from astropy import units as u\n",
    "from astropy.io import ascii\n",
    "from astroquery.xmatch import XMatch\n",
    "from astropy.table import Table, vstack\n",
    "from astropy.coordinates import SkyCoord, ICRS, Galactic, Angle\n",
    "from astropy.time import Time"
   ]
  },
  {
   "cell_type": "markdown",
   "metadata": {},
   "source": [
    "## Upload your files with the info you'd like to cross-match with GAIA DR2"
   ]
  },
  {
   "cell_type": "code",
   "execution_count": 4,
   "metadata": {
    "collapsed": true
   },
   "outputs": [],
   "source": [
    "files = glob.glob('../IPTA_DR1/*/*.par') # We are interested in pulsars, these files contain their parameters"
   ]
  },
  {
   "cell_type": "markdown",
   "metadata": {},
   "source": [
    "## Here we parse the pulsar .par files to get the known pulsar positions and proper motions. This is specific to the pulsar data format used by the International Pulsar Timing Array."
   ]
  },
  {
   "cell_type": "code",
   "execution_count": 6,
   "metadata": {
    "collapsed": true
   },
   "outputs": [],
   "source": [
    "RAs = []\n",
    "DECs = []\n",
    "Names = []\n",
    "pmra = []\n",
    "pmdec = []\n",
    "pepoch = []\n",
    "posepoch = []\n",
    "dmepoch = []\n",
    "dm = []\n",
    "coords = []\n",
    "\n",
    "for file in files:\n",
    "    d = {}\n",
    "    with open(file) as f:\n",
    "        for line in f:\n",
    "            key = line.split()[0]\n",
    "            value = line.split()[1]\n",
    "            d[key] = value\n",
    "            \n",
    "    try:\n",
    "        ra = Angle(d['RAJ'], u.hourangle).to(u.deg)\n",
    "        dec = Angle(d['DECJ'], u.degree)\n",
    "        coord = SkyCoord(ra=ra, dec=dec, frame='icrs',\n",
    "                     pm_ra_cosdec = float(d['PMRA'])*u.mas/u.yr, # bug updated, thanks Paul Ray\n",
    "                     pm_dec=float(d['PMDEC'])*u.mas/u.yr,\n",
    "                     obstime=Time(float(d['POSEPOCH']), format='mjd'),\n",
    "                     distance=1. * u.kpc) # HACK\n",
    "        coords.append(coord)\n",
    "        RAs.append(ra.value)\n",
    "        #print(d['PSRJ'], d['DECJ'])\n",
    "        DECs.append(dec.value)\n",
    "        Names.append(d['PSRJ'])\n",
    "        pmra.append(coord.pm_ra_cosdec.value)\n",
    "        pmdec.append(coord.pm_dec.value)\n",
    "        pepoch.append(d['PEPOCH'])\n",
    "        posepoch.append(d['POSEPOCH'])\n",
    "        dmepoch.append(d['DMEPOCH'])\n",
    "        dm.append(d['DM'])\n",
    "        \n",
    "    except KeyError:\n",
    "        lon = float(d['ELONG'])*u.deg\n",
    "        lat = float(d['ELAT'])*u.deg\n",
    "        coord = SkyCoord(l=lon, b=lat, frame='galactic',\n",
    "                         pm_l_cosb = float(d['PMELONG'])*np.cos(lat.to(u.rad))*u.mas/u.yr, \n",
    "                         pm_b=float(d['PMELAT'])*u.mas/u.yr,\n",
    "                         obstime=Time(float(d['POSEPOCH']), format='mjd'),\n",
    "                         distance=1. * u.kpc) # HACKITY HACK HACK\n",
    "        icrscoord = coord.transform_to(ICRS)\n",
    "        coords.append(icrscoord)\n",
    "        #print(icrscoord)\n",
    "        #print(d['PSRJ'])\n",
    "        RAs.append(icrscoord.ra.to(u.deg).value)\n",
    "        DECs.append(icrscoord.dec.to(u.deg).value)\n",
    "        Names.append(d['PSRJ'])\n",
    "        pmra.append(icrscoord.pm_ra_cosdec.value)\n",
    "        pmdec.append(icrscoord.pm_dec.value)\n",
    "        pepoch.append(d['PEPOCH'])\n",
    "        posepoch.append(d['POSEPOCH'])\n",
    "        dmepoch.append(d['DMEPOCH'])\n",
    "        dm.append(d['DM'])        \n",
    "        #coord = SkyCoord(d[''])\n",
    "        \n",
    "        continue\n",
    "        \n",
    "t = Table([Names, RAs, DECs, pmra, pmdec, pepoch, posepoch, dmepoch, dm], names=['names', 'ra', 'dec', 'pmra', 'pmdec', 'dm', 'pepoch', 'posepoch', 'dmepoch'])        \n",
    "#tmin = Table([RAs, DECs], names=['ra', 'dec'])\n"
   ]
  },
  {
   "cell_type": "code",
   "execution_count": 7,
   "metadata": {
    "collapsed": true
   },
   "outputs": [],
   "source": [
    "# Test"
   ]
  },
  {
   "cell_type": "code",
   "execution_count": 8,
   "metadata": {
    "collapsed": true
   },
   "outputs": [
    {
     "name": "stdout",
     "output_type": "stream",
     "text": [
      "<SkyCoord (ICRS): (ra, dec, distance) in (deg, deg, pc)\n",
      "    (7.61427606, 4.86102859, 999.99999999)\n",
      " (pm_ra, pm_dec, radial_velocity) in (mas / yr, mas / yr, km / s)\n",
      "    (-5.86760677, -0.41012739, 4.3724621e-06)>\n"
     ]
    }
   ],
   "source": [
    "print(coords[0].apply_space_motion(new_obstime=Time(57023., format='mjd')))"
   ]
  },
  {
   "cell_type": "code",
   "execution_count": 9,
   "metadata": {
    "collapsed": true
   },
   "outputs": [],
   "source": [
    "gaia_time = Time(57023., format='mjd')"
   ]
  },
  {
   "cell_type": "markdown",
   "metadata": {},
   "source": [
    "## Here we propagate the pulsar proper motion to update them to the GAIA DR2 reference epoch."
   ]
  },
  {
   "cell_type": "code",
   "execution_count": 10,
   "metadata": {
    "collapsed": true
   },
   "outputs": [],
   "source": [
    "t['ra'] = [c.apply_space_motion(new_obstime=gaia_time).ra.value for c in coords]\n",
    "t['dec'] = [c.apply_space_motion(new_obstime=gaia_time).dec.value for c in coords]"
   ]
  },
  {
   "cell_type": "code",
   "execution_count": 11,
   "metadata": {
    "collapsed": true
   },
   "outputs": [],
   "source": [
    "t.write('ipta_data.csv', format='csv', overwrite=True)\n"
   ]
  },
  {
   "cell_type": "markdown",
   "metadata": {},
   "source": [
    "# We tell the x-match server that we want to search GAIA DR2 for objcts at the RA and DEC we specifiy in our file, within a 3 arsecond search radius."
   ]
  },
  {
   "cell_type": "code",
   "execution_count": 21,
   "metadata": {
    "collapsed": true
   },
   "outputs": [],
   "source": [
    "r = requests.post(\n",
    "'http://cdsxmatch.u-strasbg.fr/xmatch/api/v1/sync',\n",
    "data={'request': 'xmatch', 'distMaxArcsec': 3.0, 'RESPONSEFORMAT': 'votable',\n",
    "'cat2': 'vizier:I/345/gaia2', 'colRA1': 'ra', 'colDec1': 'dec'},\n",
    "files={'cat1': open('ipta_data.csv', 'r')})"
   ]
  },
  {
   "cell_type": "code",
   "execution_count": 22,
   "metadata": {
    "collapsed": true
   },
   "outputs": [
    {
     "name": "stdout",
     "output_type": "stream",
     "text": [
      "<?xml version=\"1.0\" encoding=\"UTF-8\"?>\n",
      "<VOTABLE version=\"1.2\" xmlns:xsi=\"http://www.w3.org/2001/XMLSchema-instance\"\n",
      "xsi:schemaLocation=\"http://www.ivoa.net/xml/VOTable/v1.2 http://www.ivoa.net/xml/VOTable/v1.2\"\n",
      "xmlns=\"http://www.ivoa.net/xml/VOTable/v1.2\">\n",
      "\t<DESCRIPTION>\n",
      "\t\tGenerated by the CDS XMatch engine.\n",
      "\t\tPlease report any problem to:\n",
      "\t\t - francois-xavier.pineau@astro.unistra.fr or\n",
      "\t\t - thomas.boch@astro.unistra.fr or\n",
      "\t\t - cds-question@unistra.fr\n",
      "\t</DESCRIPTION>\n",
      "\t<INFO name=\"queryParameters\" value=\"7\">\n",
      "\t\trequest=xmatch\n",
      "\t\tdistmaxarcsec=3.0\n",
      "\t\tresponseformat=votable\n",
      "\t\tcat2=vizier:I/345/gaia2\n",
      "\t\tcolra1=ra\n",
      "\t\tcoldec1=dec\n",
      "\t\tcat1=ipta_data.csv\n",
      "\t</INFO>\n",
      "\t<INFO name=\"nTuples\" value=\"18\"/>\n",
      "\t<INFO name=\"computationTime\" value=\"00:00:00.038\"/>\n",
      "\t<RESOURCE type=\"results\">\n",
      "\t\t<INFO name=\"QUERY_STATUS\" value=\"OK\"/>\n",
      "\t\t<TABLE ID=\"xmatchResult\" name=\"xmatchResult\" nrows=\"18\">\n",
      "\t\t\t<FIELD name=\"angDist\" datatype=\"double\" unit=\"arcsec\" ucd=\"pos.angDistance\">\n",
      "\t\t\t\t<DESCRIPTION>Xmatch distance in arcseconds</DESCRIPTION>\n",
      "\t\t\t</FIELD>\n",
      "\t\t\t<FIELD name=\"names\" datatype=\"char\" arraysize=\"11\">\n",
      "\t\t\t</FIELD>\n",
      "\t\t\t<FIELD name=\"ra\" datatype=\"double\">\n",
      "\t\t\t</FIELD>\n",
      "\t\t\t<FIELD name=\"dec\" datatype=\"double\">\n",
      "\t\t\t</FIELD>\n",
      "\t\t\t<FIELD name=\"pmra\" datatype=\"double\">\n",
      "\t\t\t</FIELD>\n",
      "\t\t\t<FIELD name=\"pmdec\" datatype=\"double\">\n",
      "\t\t\t</FIELD>\n",
      "\t\t\t<FIELD name=\"dm\" datatype=\"int\">\n",
      "\t\t\t</FIELD>\n",
      "\t\t\t<FIELD name=\"pepoch\" datatype=\"int\">\n",
      "\t\t\t</FIELD>\n",
      "\t\t\t<FIELD name=\"posepoch\" datatype=\"int\">\n",
      "\t\t\t</FIELD>\n",
      "\t\t\t<FIELD name=\"dmepoch\" datatype=\"double\">\n",
      "\t\t\t</FIELD>\n",
      "\t\t\t<FIELD name=\"ra_epoch2000\" datatype=\"double\" unit=\"deg\" ucd=\"pos.eq.ra;meta.main\">\n",
      "\t\t\t</FIELD>\n",
      "\t\t\t<FIELD name=\"dec_epoch2000\" datatype=\"double\" unit=\"deg\" ucd=\"pos.eq.dec;meta.main\">\n",
      "\t\t\t</FIELD>\n",
      "\t\t\t<FIELD name=\"errHalfMaj\" datatype=\"float\" unit=\"arcsec\" ucd=\"phys.angSize.smajAxis;pos.errorEllipse;meta.main\">\n",
      "\t\t\t\t<DESCRIPTION>Half Major axis of the positional error</DESCRIPTION>\n",
      "\t\t\t</FIELD>\n",
      "\t\t\t<FIELD name=\"errHalfMin\" datatype=\"float\" unit=\"arcsec\" ucd=\"phys.angSize.sminAxis;pos.errorEllipse;meta.main\">\n",
      "\t\t\t\t<DESCRIPTION>Half Minor axis of the positional error</DESCRIPTION>\n",
      "\t\t\t</FIELD>\n",
      "\t\t\t<FIELD name=\"errPosAng\" datatype=\"float\" unit=\"deg\" ucd=\"pos.posAng;pos.errorEllipse;meta.main\">\n",
      "\t\t\t\t<DESCRIPTION>Position angle of the positional error</DESCRIPTION>\n",
      "\t\t\t</FIELD>\n",
      "\t\t\t<FIELD name=\"source_id\" datatype=\"long\" ucd=\"meta.id\">\n",
      "\t\t\t</FIELD>\n",
      "\t\t\t<FIELD name=\"ra\" datatype=\"double\" unit=\"deg\" ucd=\"pos.eq.ra\">\n",
      "\t\t\t</FIELD>\n",
      "\t\t\t<FIELD name=\"ra_error\" datatype=\"double\" unit=\"mas\" ucd=\"stat.error;pos.eq.ra\">\n",
      "\t\t\t</FIELD>\n",
      "\t\t\t<FIELD name=\"dec\" datatype=\"double\" unit=\"deg\" ucd=\"pos.eq.dec\">\n",
      "\t\t\t</FIELD>\n",
      "\t\t\t<FIELD name=\"dec_error\" datatype=\"double\" unit=\"mas\" ucd=\"stat.error;pos.eq.dec\">\n",
      "\t\t\t</FIELD>\n",
      "\t\t\t<FIELD name=\"parallax\" datatype=\"double\" unit=\"mas\" ucd=\"pos.parallax\">\n",
      "\t\t\t</FIELD>\n",
      "\t\t\t<FIELD name=\"parallax_error\" datatype=\"double\" unit=\"mas\" ucd=\"stat.error;pos.parallax\">\n",
      "\t\t\t</FIELD>\n",
      "\t\t\t<FIELD name=\"pmra\" datatype=\"double\" unit=\"mas/yr\" ucd=\"pos.pm;pos.eq.ra\">\n",
      "\t\t\t</FIELD>\n",
      "\t\t\t<FIELD name=\"pmra_error\" datatype=\"double\" unit=\"mas/yr\" ucd=\"stat.error;pos.pm;pos.eq.ra\">\n",
      "\t\t\t</FIELD>\n",
      "\t\t\t<FIELD name=\"pmdec\" datatype=\"double\" unit=\"mas/yr\" ucd=\"pos.pm;pos.eq.dec\">\n",
      "\t\t\t</FIELD>\n",
      "\t\t\t<FIELD name=\"pmdec_error\" datatype=\"double\" unit=\"mas/yr\" ucd=\"stat.error;pos.pm;pos.eq.dec\">\n",
      "\t\t\t</FIELD>\n",
      "\t\t\t<FIELD name=\"duplicated_source\" datatype=\"boolean\" ucd=\"meta.code.status\">\n",
      "\t\t\t</FIELD>\n",
      "\t\t\t<FIELD name=\"phot_g_mean_flux\" datatype=\"double\" unit=\"e-/s\" ucd=\"phot.flux;stat.mean;em.opt\">\n",
      "\t\t\t</FIELD>\n",
      "\t\t\t<FIELD name=\"phot_g_mean_flux_error\" datatype=\"double\" unit=\"e-/s\" ucd=\"stat.error;phot.flux;stat.mean;em.opt\">\n",
      "\t\t\t</FIELD>\n",
      "\t\t\t<FIELD name=\"phot_g_mean_mag\" datatype=\"double\" unit=\"mag\" ucd=\"phot.mag;stat.mean;em.opt\">\n",
      "\t\t\t</FIELD>\n",
      "\t\t\t<FIELD name=\"phot_bp_mean_flux\" datatype=\"double\" unit=\"e-/s\" ucd=\"phot.flux;stat.mean\">\n",
      "\t\t\t</FIELD>\n",
      "\t\t\t<FIELD name=\"phot_bp_mean_flux_error\" datatype=\"double\" unit=\"e-/s\" ucd=\"stat.error;phot.flux;stat.mean\">\n",
      "\t\t\t</FIELD>\n",
      "\t\t\t<FIELD name=\"phot_bp_mean_mag\" datatype=\"double\" unit=\"mag\" ucd=\"phot.mag;stat.mean\">\n",
      "\t\t\t</FIELD>\n",
      "\t\t\t<FIELD name=\"phot_rp_mean_flux\" datatype=\"double\" unit=\"e-/s\" ucd=\"phot.flux;stat.mean\">\n",
      "\t\t\t</FIELD>\n",
      "\t\t\t<FIELD name=\"phot_rp_mean_flux_error\" datatype=\"double\" unit=\"e-/s\" ucd=\"stat.error;phot.flux\">\n",
      "\t\t\t</FIELD>\n",
      "\t\t\t<FIELD name=\"phot_rp_mean_mag\" datatype=\"double\" unit=\"mag\" ucd=\"phot.mag;stat.mean\">\n",
      "\t\t\t</FIELD>\n",
      "\t\t\t<FIELD name=\"bp_rp\" datatype=\"double\" unit=\"mag\" ucd=\"phot.color\">\n",
      "\t\t\t</FIELD>\n",
      "\t\t\t<FIELD name=\"radial_velocity\" datatype=\"double\" unit=\"km/s\" ucd=\"spect.dopplerVeloc;pos.barycentre\">\n",
      "\t\t\t</FIELD>\n",
      "\t\t\t<FIELD name=\"radial_velocity_error\" datatype=\"double\" unit=\"km/s\" ucd=\"stat.error;spect.dopplerVeloc.opt\">\n",
      "\t\t\t</FIELD>\n",
      "\t\t\t<FIELD name=\"teff_val\" datatype=\"double\" unit=\"K\" ucd=\"phys.temperature.effective\">\n",
      "\t\t\t</FIELD>\n",
      "\t\t\t<FIELD name=\"a_g_val\" datatype=\"float\" unit=\"mag\" ucd=\"phys.absorption.gal\">\n",
      "\t\t\t</FIELD>\n",
      "\t\t\t<FIELD name=\"e_bp_min_rp_val\" datatype=\"float\" unit=\"mag\">\n",
      "\t\t\t</FIELD>\n",
      "\t\t\t<FIELD name=\"radius_val\" datatype=\"double\" unit=\"solRad\" ucd=\"phys.size.radius\">\n",
      "\t\t\t</FIELD>\n",
      "\t\t\t<FIELD name=\"lum_val\" datatype=\"double\" unit=\"solLum\" ucd=\"phys.luminosity\">\n",
      "\t\t\t</FIELD>\n",
      "\t\t\t<DATA><TABLEDATA>\n",
      "<TR><TD>2.129243</TD><TD>J0437-4715</TD><TD>69.31657735576458</TD><TD>-47.25266789914286</TD><TD>121.43993281718666</TD><TD>-71.47620158262019</TD><TD>54500</TD><TD>54500</TD><TD>54500</TD><TD>2.644571992220118</TD><TD>69.31582341820</TD><TD>-47.25237136340</TD><TD>0.026</TD><TD>0.019</TD><TD>0</TD><TD>4789864076732331648</TD><TD>69.31660276366</TD><TD>0.5823</TD><TD>-47.25267777510</TD><TD>0.7385</TD><TD>8.3250</TD><TD>0.6777</TD><TD>122.864</TD><TD>1.197</TD><TD>-71.166</TD><TD>1.670</TD><TD>0</TD><TD>1.29299e+02</TD><TD>1.07676e+00</TD><TD>20.409374</TD><TD>5.45906e+01</TD><TD>6.52378e+00</TD><TD>21.008593</TD><TD>1.32014e+02</TD><TD>8.90693e+00</TD><TD>19.460367</TD><TD>1.548225</TD><TD></TD><TD></TD><TD></TD><TD></TD><TD></TD><TD></TD><TD></TD></TR>\n",
      "<TR><TD>1.901612</TD><TD>J0613-0200</TD><TD>93.43323479383737</TD><TD>-2.013134067189237</TD><TD>1.8277959527833965</TD><TD>-10.338557735985928</TD><TD>55000</TD><TD>55000</TD><TD>55000</TD><TD>38.77753444534659</TD><TD>93.43330322040</TD><TD>-2.01365784759</TD><TD>0.004</TD><TD>0.004</TD><TD>0</TD><TD>3118031705827298944</TD><TD>93.43331573919</TD><TD>0.1869</TD><TD>-2.01365862975</TD><TD>0.2056</TD><TD>0.3961</TD><TD>0.0617</TD><TD>2.906</TD><TD>0.265</TD><TD>-0.182</TD><TD>0.287</TD><TD>0</TD><TD>1.10487e+04</TD><TD>8.67679e+00</TD><TD>15.580091</TD><TD>5.27389e+03</TD><TD>2.52695e+01</TD><TD>16.046060</TD><TD>8.49020e+03</TD><TD>1.90060e+01</TD><TD>14.939625</TD><TD>1.106436</TD><TD></TD><TD></TD><TD>5056.16</TD><TD></TD><TD></TD><TD></TD><TD></TD></TR>\n",
      "<TR><TD>0.407857</TD><TD>J1012+5307</TD><TD>153.1393297669643</TD><TD>53.11726643111188</TD><TD>2.6237122562025084</TD><TD>-25.458808920674365</TD><TD>55000</TD><TD>55000</TD><TD>55000</TD><TD>9.021803950562022</TD><TD>153.13930897200</TD><TD>53.11737903520</TD><TD>0.010</TD><TD>0.008</TD><TD>0</TD><TD>851610861391010944</TD><TD>153.13933032772</TD><TD>0.2412</TD><TD>53.11726302699</TD><TD>0.3025</TD><TD>1.3259</TD><TD>0.4142</TD><TD>2.977</TD><TD>0.526</TD><TD>-26.944</TD><TD>0.632</TD><TD>0</TD><TD>2.66141e+02</TD><TD>1.03813e+00</TD><TD>19.625587</TD><TD>1.87608e+02</TD><TD>8.60580e+00</TD><TD>19.668257</TD><TD>1.40331e+02</TD><TD>8.21014e+00</TD><TD>19.394035</TD><TD>0.274221</TD><TD></TD><TD></TD><TD></TD><TD></TD><TD></TD><TD></TD><TD></TD></TR>\n",
      "<TR><TD>0.851341</TD><TD>J1024-0719</TD><TD>156.16109265024383</TD><TD>-7.322139210376967</TD><TD>-35.30492690451154</TD><TD>-48.2439401720538</TD><TD>55000</TD><TD>55000</TD><TD>55000</TD><TD>6.486302522549919</TD><TD>156.16124693600</TD><TD>-7.32195891331</TD><TD>0.010</TD><TD>0.010</TD><TD>0</TD><TD>3775277872387310208</TD><TD>156.16109274798</TD><TD>0.4299</TD><TD>-7.32216528856</TD><TD>0.3927</TD><TD>0.5288</TD><TD>0.4259</TD><TD>-35.519</TD><TD>0.640</TD><TD>-47.932</TD><TD>0.659</TD><TD>0</TD><TD>3.99888e+02</TD><TD>1.52738e+00</TD><TD>19.183520</TD><TD>1.22129e+02</TD><TD>1.05288e+01</TD><TD>20.134338</TD><TD>3.84491e+02</TD><TD>8.83117e+00</TD><TD>18.299706</TD><TD>1.834633</TD><TD></TD><TD></TD><TD></TD><TD></TD><TD></TD><TD></TD><TD></TD></TR>\n",
      "<TR><TD>2.308292</TD><TD>J1732-5049</TD><TD>263.199026695631</TD><TD>-50.816738937228244</TD><TD>-0.4321011997435146</TD><TD>-9.909960845539748</TD><TD>54500</TD><TD>54500</TD><TD>54500</TD><TD>56.836159510131985</TD><TD>263.20000619800</TD><TD>-50.81657116390</TD><TD>0.046</TD><TD>0.043</TD><TD>90</TD><TD>5946288492263176704</TD><TD>263.20000598078</TD><TD>2.1689</TD><TD>-50.81661629931</TD><TD>2.0101</TD><TD>-1.1837</TD><TD>2.8444</TD><TD>-0.032</TD><TD>2.963</TD><TD>-10.483</TD><TD>2.749</TD><TD>0</TD><TD>8.29259e+01</TD><TD>1.07651e+00</TD><TD>20.891642</TD><TD>5.74624e+01</TD><TD>1.44290e+01</TD><TD>20.952929</TD><TD>8.64001e+01</TD><TD>1.06818e+01</TD><TD>19.920635</TD><TD>1.032293</TD><TD></TD><TD></TD><TD></TD><TD></TD><TD></TD><TD></TD><TD></TD></TR>\n",
      "<TR><TD>1.971000</TD><TD>J1744-1134</TD><TD>266.12256094987714</TD><TD>-11.581873959021825</TD><TD>18.800230807908</TD><TD>-9.40161871219471</TD><TD>55000</TD><TD>55000</TD><TD>55000</TD><TD>3.1359019425268104</TD><TD>266.12249188700</TD><TD>-11.58133065550</TD><TD>0.057</TD><TD>0.049</TD><TD>90</TD><TD>4162348537090626560</TD><TD>266.12246463283</TD><TD>1.3508</TD><TD>-11.58135898210</TD><TD>1.2308</TD><TD>1.3528</TD><TD>1.3632</TD><TD>-6.201</TD><TD>3.670</TD><TD>-6.579</TD><TD>3.150</TD><TD>0</TD><TD>9.28870e+01</TD><TD>1.50995e+00</TD><TD>20.768478</TD><TD>5.41531e+01</TD><TD>1.43375e+01</TD><TD>21.017330</TD><TD>1.28830e+02</TD><TD>1.35461e+01</TD><TD>19.486876</TD><TD>1.530455</TD><TD></TD><TD></TD><TD></TD><TD></TD><TD></TD><TD></TD><TD></TD></TR>\n",
      "<TR><TD>1.565354</TD><TD>J1804-2717</TD><TD>271.08805880766636</TD><TD>-27.292071921059044</TD><TD>2.450169815311172</TD><TD>-23.22141797576073</TD><TD>55000</TD><TD>55000</TD><TD>55000</TD><TD>24.631313880486832</TD><TD>271.08780599300</TD><TD>-27.29169964220</TD><TD>0.008</TD><TD>0.006</TD><TD>90</TD><TD>4063140839871310976</TD><TD>271.08779230175</TD><TD>0.2426</TD><TD>-27.29173661552</TD><TD>0.2202</TD><TD>0.2395</TD><TD>0.2565</TD><TD>-2.826</TD><TD>0.500</TD><TD>-8.587</TD><TD>0.390</TD><TD>0</TD><TD>1.47370e+03</TD><TD>1.21084e+01</TD><TD>17.767340</TD><TD>9.59990e+02</TD><TD>3.33935e+01</TD><TD>17.895721</TD><TD></TD><TD></TD><TD></TD><TD></TD><TD></TD><TD></TD><TD></TD><TD></TD><TD></TD><TD></TD><TD></TD></TR>\n",
      "<TR><TD>2.937308</TD><TD>J1804-2717</TD><TD>271.08805880766636</TD><TD>-27.292071921059044</TD><TD>2.450169815311172</TD><TD>-23.22141797576073</TD><TD>55000</TD><TD>55000</TD><TD>55000</TD><TD>24.631313880486832</TD><TD>271.08851025200</TD><TD>-27.29136145000</TD><TD>0.002</TD><TD>0.002</TD><TD>90</TD><TD>4063140835798763392</TD><TD>271.08851025168</TD><TD>1.9831</TD><TD>-27.29136145005</TD><TD>1.7851</TD><TD></TD><TD></TD><TD></TD><TD></TD><TD></TD><TD></TD><TD>0</TD><TD>4.62203e+03</TD><TD>9.36086e+01</TD><TD>16.526283</TD><TD>3.11029e+03</TD><TD>7.20116e+01</TD><TD>16.619387</TD><TD>7.78643e+03</TD><TD>1.34361e+02</TD><TD>15.033573</TD><TD>1.585814</TD><TD></TD><TD></TD><TD>5143.45</TD><TD></TD><TD></TD><TD></TD><TD></TD></TR>\n",
      "<TR><TD>0.685671</TD><TD>J1824-2452A</TD><TD>276.1333649511041</TD><TD>-24.869675953398374</TD><TD>-0.6407616182873535</TD><TD>0.8784191230792192</TD><TD>54500</TD><TD>54500</TD><TD>54500</TD><TD>119.89365436191608</TD><TD>276.13315856500</TD><TD>-24.86971081130</TD><TD>0.003</TD><TD>0.002</TD><TD>0</TD><TD>4077190502565948800</TD><TD>276.13315856482</TD><TD>2.2725</TD><TD>-24.86971081129</TD><TD>2.9281</TD><TD></TD><TD></TD><TD></TD><TD></TD><TD></TD><TD></TD><TD>0</TD><TD>7.55992e+03</TD><TD>6.98355e+01</TD><TD>15.992073</TD><TD></TD><TD></TD><TD></TD><TD></TD><TD></TD><TD></TD><TD></TD><TD></TD><TD></TD><TD></TD><TD></TD><TD></TD><TD></TD><TD></TD></TR>\n",
      "<TR><TD>1.653262</TD><TD>J1824-2452A</TD><TD>276.1333649511041</TD><TD>-24.869675953398374</TD><TD>-0.6407616182873535</TD><TD>0.8784191230792192</TD><TD>54500</TD><TD>54500</TD><TD>54500</TD><TD>119.89365436191608</TD><TD>276.13300994500</TD><TD>-24.86934859760</TD><TD>0.005</TD><TD>0.003</TD><TD>0</TD><TD>4077190502565967616</TD><TD>276.13300994472</TD><TD>3.1851</TD><TD>-24.86934859764</TD><TD>5.0394</TD><TD></TD><TD></TD><TD></TD><TD></TD><TD></TD><TD></TD><TD>0</TD><TD>3.70384e+03</TD><TD>7.37043e+01</TD><TD>16.766735</TD><TD></TD><TD></TD><TD></TD><TD></TD><TD></TD><TD></TD><TD></TD><TD></TD><TD></TD><TD></TD><TD></TD><TD></TD><TD></TD><TD></TD></TR>\n",
      "<TR><TD>2.076716</TD><TD>J1824-2452A</TD><TD>276.1333649511041</TD><TD>-24.869675953398374</TD><TD>-0.6407616182873535</TD><TD>0.8784191230792192</TD><TD>54500</TD><TD>54500</TD><TD>54500</TD><TD>119.89365436191608</TD><TD>276.13351126100</TD><TD>-24.86911456810</TD><TD>0.005</TD><TD>0.003</TD><TD>0</TD><TD>4077190502565966976</TD><TD>276.13351126070</TD><TD>2.6362</TD><TD>-24.86911456814</TD><TD>4.6499</TD><TD></TD><TD></TD><TD></TD><TD></TD><TD></TD><TD></TD><TD>0</TD><TD>8.68702e+03</TD><TD>5.16175e+01</TD><TD>15.841188</TD><TD>1.52056e+04</TD><TD>8.00211e+02</TD><TD>14.896379</TD><TD>2.04269e+04</TD><TD>6.44781e+02</TD><TD>13.986412</TD><TD>0.909966</TD><TD></TD><TD></TD><TD>5095.63</TD><TD></TD><TD></TD><TD></TD><TD></TD></TR>\n",
      "<TR><TD>1.485199</TD><TD>J1843-1113</TD><TD>280.92192171695217</TD><TD>-11.225302588441892</TD><TD>-1.8561242239606754</TD><TD>-3.7551222039556307</TD><TD>55000</TD><TD>55000</TD><TD>55000</TD><TD>59.96516826321845</TD><TD>280.92234144700</TD><TD>-11.22527604090</TD><TD>0.034</TD><TD>0.028</TD><TD>0</TD><TD>4106823440438736384</TD><TD>280.92232721974</TD><TD>0.6667</TD><TD>-11.22530736113</TD><TD>0.6444</TD><TD>0.7869</TD><TD>0.6431</TD><TD>-3.241</TD><TD>1.830</TD><TD>-7.274</TD><TD>2.171</TD><TD>0</TD><TD>2.25837e+02</TD><TD>1.40161e+00</TD><TD>19.803880</TD><TD>1.05257e+02</TD><TD>1.70187e+01</TD><TD>20.295761</TD><TD>2.90324e+02</TD><TD>2.42939e+01</TD><TD>18.604713</TD><TD>1.691048</TD><TD></TD><TD></TD><TD></TD><TD></TD><TD></TD><TD></TD><TD></TD></TR>\n",
      "<TR><TD>1.544935</TD><TD>J1853+1303</TD><TD>283.4888256784536</TD><TD>13.062236957426395</TD><TD>-1.6028669163985707</TD><TD>-2.8622861992163515</TD><TD>55000</TD><TD>55000</TD><TD>55000</TD><TD>30.548208639277437</TD><TD>283.48926151700</TD><TD>13.06229953800</TD><TD>0.017</TD><TD>0.009</TD><TD>0</TD><TD>4506162043520360576</TD><TD>283.48926151706</TD><TD>9.0836</TD><TD>13.06229953797</TD><TD>16.6591</TD><TD></TD><TD></TD><TD></TD><TD></TD><TD></TD><TD></TD><TD>0</TD><TD>7.32602e+01</TD><TD>1.41134e+00</TD><TD>21.026196</TD><TD></TD><TD></TD><TD></TD><TD></TD><TD></TD><TD></TD><TD></TD><TD></TD><TD></TD><TD></TD><TD></TD><TD></TD><TD></TD><TD></TD></TR>\n",
      "<TR><TD>1.057952</TD><TD>J1910+1256</TD><TD>287.540422990616</TD><TD>12.94040243356994</TD><TD>0.2506101280152715</TD><TD>-6.934721357783575</TD><TD>55000</TD><TD>55000</TD><TD>55000</TD><TD>38.092129555957015</TD><TD>287.54072446200</TD><TD>12.94039647610</TD><TD>0.020</TD><TD>0.020</TD><TD>0</TD><TD>4314046781982561920</TD><TD>287.54072149288</TD><TD>0.5764</TD><TD>12.94037301469</TD><TD>0.6235</TD><TD>-0.4219</TD><TD>0.7972</TD><TD>-0.672</TD><TD>1.310</TD><TD>-5.449</TD><TD>1.317</TD><TD>0</TD><TD>1.29228e+02</TD><TD>6.67511e-01</TD><TD>20.409973</TD><TD>9.63201e+01</TD><TD>1.89414e+01</TD><TD>20.392096</TD><TD>2.01369e+02</TD><TD>7.86526e+00</TD><TD>19.001938</TD><TD>1.390158</TD><TD></TD><TD></TD><TD></TD><TD></TD><TD></TD><TD></TD><TD></TD></TR>\n",
      "<TR><TD>2.081449</TD><TD>J1910+1256</TD><TD>287.540422990616</TD><TD>12.94040243356994</TD><TD>0.2506101280152715</TD><TD>-6.934721357783575</TD><TD>55000</TD><TD>55000</TD><TD>55000</TD><TD>38.092129555957015</TD><TD>287.54053522300</TD><TD>12.94097017300</TD><TD>0.019</TD><TD>0.015</TD><TD>0</TD><TD>4314046781986637440</TD><TD>287.54053522258</TD><TD>15.4101</TD><TD>12.94097017300</TD><TD>19.2058</TD><TD></TD><TD></TD><TD></TD><TD></TD><TD></TD><TD></TD><TD>0</TD><TD>5.97947e+01</TD><TD>1.99205e+00</TD><TD>21.246710</TD><TD></TD><TD></TD><TD></TD><TD></TD><TD></TD><TD></TD><TD></TD><TD></TD><TD></TD><TD></TD><TD></TD><TD></TD><TD></TD><TD></TD></TR>\n",
      "<TR><TD>2.652569</TD><TD>J1910+1256</TD><TD>287.540422990616</TD><TD>12.94040243356994</TD><TD>0.2506101280152715</TD><TD>-6.934721357783575</TD><TD>55000</TD><TD>55000</TD><TD>55000</TD><TD>38.092129555957015</TD><TD>287.53981121000</TD><TD>12.94083533650</TD><TD>0.006</TD><TD>0.004</TD><TD>0</TD><TD>4314046781987298560</TD><TD>287.53981121029</TD><TD>4.2582</TD><TD>12.94083533655</TD><TD>5.8823</TD><TD></TD><TD></TD><TD></TD><TD></TD><TD></TD><TD></TD><TD>0</TD><TD>6.51001e+01</TD><TD>1.13199e+00</TD><TD>21.154411</TD><TD></TD><TD></TD><TD></TD><TD></TD><TD></TD><TD></TD><TD></TD><TD></TD><TD></TD><TD></TD><TD></TD><TD></TD><TD></TD><TD></TD></TR>\n",
      "<TR><TD>2.138534</TD><TD>J1939+2134</TD><TD>294.9106718573495</TD><TD>21.58308983479312</TD><TD>0.06311944159225188</TD><TD>-0.40889669598227496</TD><TD>55000</TD><TD>55000</TD><TD>55000</TD><TD>71.02563769939115</TD><TD>294.91098664500</TD><TD>21.58360674630</TD><TD>0.006</TD><TD>0.005</TD><TD>0</TD><TD>1826171887549517696</TD><TD>294.91097795830</TD><TD>0.1614</TD><TD>21.58358724957</TD><TD>0.1961</TD><TD>-0.3643</TD><TD>0.2987</TD><TD>-1.876</TD><TD>0.328</TD><TD>-4.528</TD><TD>0.398</TD><TD>0</TD><TD>5.85564e+02</TD><TD>1.17473e+00</TD><TD>18.769430</TD><TD>4.91151e+01</TD><TD>1.11330e+01</TD><TD>21.123350</TD><TD>1.01133e+03</TD><TD>9.79588e+00</TD><TD>17.249687</TD><TD>3.873663</TD><TD></TD><TD></TD><TD></TD><TD></TD><TD></TD><TD></TD><TD></TD></TR>\n",
      "<TR><TD>0.116353</TD><TD>J1955+2908</TD><TD>298.86614749111067</TD><TD>29.14539910908473</TD><TD>-0.8116245289559626</TD><TD>-4.065468091229381</TD><TD>55000</TD><TD>55000</TD><TD>55000</TD><TD>104.46602422967284</TD><TD>298.86611669900</TD><TD>29.14541703500</TD><TD>0.005</TD><TD>0.005</TD><TD>0</TD><TD>2028584968839606784</TD><TD>298.86610145561</TD><TD>0.1255</TD><TD>29.14538274994</TD><TD>0.1655</TD><TD>0.6034</TD><TD>0.1942</TD><TD>-3.092</TD><TD>0.290</TD><TD>-7.963</TD><TD>0.323</TD><TD>0</TD><TD>6.17344e+02</TD><TD>1.12753e+00</TD><TD>18.712048</TD><TD>1.04587e+02</TD><TD>6.74668e+00</TD><TD>20.302694</TD><TD>8.94531e+02</TD><TD>8.64379e+00</TD><TD>17.382930</TD><TD>2.919764</TD><TD></TD><TD></TD><TD></TD><TD></TD><TD></TD><TD></TD><TD></TD></TR>\n",
      "\t\t\t</TABLEDATA></DATA>\n",
      "\t\t</TABLE>\n",
      "\t</RESOURCE>\n",
      "</VOTABLE>\n",
      "\n"
     ]
    }
   ],
   "source": [
    "# Test\n",
    "print(r.text)"
   ]
  },
  {
   "cell_type": "code",
   "execution_count": 23,
   "metadata": {
    "collapsed": true
   },
   "outputs": [],
   "source": [
    "h = open('ipta_crossmatch_3arcsecond.vot', 'w')\n",
    "h.write(r.text)\n",
    "h.close()"
   ]
  },
  {
   "cell_type": "code",
   "execution_count": 16,
   "metadata": {
    "collapsed": true
   },
   "outputs": [
    {
     "data": {
      "text/plain": [
       "'angDist,names,ra,dec,pmra,pmdec,dm,pepoch,posepoch,dmepoch,ra_epoch2000,dec_epoch2000,errHalfMaj,errHalfMin,errPosAng,source_id,ra,ra_error,dec,dec_error,parallax,parallax_error,pmra,pmra_error,pmdec,pmdec_error,duplicated_source,phot_g_mean_flux,phot_g_mean_flux_error,phot_g_mean_mag,phot_bp_mean_flux,phot_bp_mean_flux_error,phot_bp_mean_mag,phot_rp_mean_flux,phot_rp_mean_flux_error,phot_rp_mean_mag,bp_rp,radial_velocity,radial_velocity_error,teff_val,a_g_val,e_bp_min_rp_val,radius_val,lum_val\\n2.129243,J0437-4715,69.31657735576458,-47.25266789914286,121.43993281718666,-71.47620158262019,54500,54500,54500,2.644571992220118,69.31582341820,-47.25237136340,0.026,0.019,0,4789864076732331648,69.31660276366,0.5823,-47.25267777510,0.7385,8.3250,0.6777,122.864,1.197,-71.166,1.670,0,1.29299e+02,1.07676e+00,20.409374,5.45906e+01,6.52378e+00,21.008593,1.32014e+02,8.90693e+00,19.460367,1.548225,,,,,,,\\n1.901612,J0613-0200,93.43323479383737,-2.013134067189237,1.8277959527833965,-10.338557735985928,55000,55000,55000,38.77753444534659,93.43330322040,-2.01365784759,0.004,0.004,0,3118031705827298944,93.43331573919,0.1869,-2.01365862975,0.2056,0.3961,0.0617,2.906,0.265,-0.182,0.287,0,1.10487e+04,8.67679e+00,15.580091,5.27389e+03,2.52695e+01,16.046060,8.49020e+03,1.90060e+01,14.939625,1.106436,,,5056.16,,,,\\n0.407857,J1012+5307,153.1393297669643,53.11726643111188,2.6237122562025084,-25.458808920674365,55000,55000,55000,9.021803950562022,153.13930897200,53.11737903520,0.010,0.008,0,851610861391010944,153.13933032772,0.2412,53.11726302699,0.3025,1.3259,0.4142,2.977,0.526,-26.944,0.632,0,2.66141e+02,1.03813e+00,19.625587,1.87608e+02,8.60580e+00,19.668257,1.40331e+02,8.21014e+00,19.394035,0.274221,,,,,,,\\n0.851341,J1024-0719,156.16109265024383,-7.322139210376967,-35.30492690451154,-48.2439401720538,55000,55000,55000,6.486302522549919,156.16124693600,-7.32195891331,0.010,0.010,0,3775277872387310208,156.16109274798,0.4299,-7.32216528856,0.3927,0.5288,0.4259,-35.519,0.640,-47.932,0.659,0,3.99888e+02,1.52738e+00,19.183520,1.22129e+02,1.05288e+01,20.134338,3.84491e+02,8.83117e+00,18.299706,1.834633,,,,,,,\\n2.308292,J1732-5049,263.199026695631,-50.816738937228244,-0.4321011997435146,-9.909960845539748,54500,54500,54500,56.836159510131985,263.20000619800,-50.81657116390,0.046,0.043,90,5946288492263176704,263.20000598078,2.1689,-50.81661629931,2.0101,-1.1837,2.8444,-0.032,2.963,-10.483,2.749,0,8.29259e+01,1.07651e+00,20.891642,5.74624e+01,1.44290e+01,20.952929,8.64001e+01,1.06818e+01,19.920635,1.032293,,,,,,,\\n1.971000,J1744-1134,266.12256094987714,-11.581873959021825,18.800230807908,-9.40161871219471,55000,55000,55000,3.1359019425268104,266.12249188700,-11.58133065550,0.057,0.049,90,4162348537090626560,266.12246463283,1.3508,-11.58135898210,1.2308,1.3528,1.3632,-6.201,3.670,-6.579,3.150,0,9.28870e+01,1.50995e+00,20.768478,5.41531e+01,1.43375e+01,21.017330,1.28830e+02,1.35461e+01,19.486876,1.530455,,,,,,,\\n1.565354,J1804-2717,271.08805880766636,-27.292071921059044,2.450169815311172,-23.22141797576073,55000,55000,55000,24.631313880486832,271.08780599300,-27.29169964220,0.008,0.006,90,4063140839871310976,271.08779230175,0.2426,-27.29173661552,0.2202,0.2395,0.2565,-2.826,0.500,-8.587,0.390,0,1.47370e+03,1.21084e+01,17.767340,9.59990e+02,3.33935e+01,17.895721,,,,,,,,,,,\\n2.937308,J1804-2717,271.08805880766636,-27.292071921059044,2.450169815311172,-23.22141797576073,55000,55000,55000,24.631313880486832,271.08851025200,-27.29136145000,0.002,0.002,90,4063140835798763392,271.08851025168,1.9831,-27.29136145005,1.7851,,,,,,,0,4.62203e+03,9.36086e+01,16.526283,3.11029e+03,7.20116e+01,16.619387,7.78643e+03,1.34361e+02,15.033573,1.585814,,,5143.45,,,,\\n0.685671,J1824-2452A,276.1333649511041,-24.869675953398374,-0.6407616182873535,0.8784191230792192,54500,54500,54500,119.89365436191608,276.13315856500,-24.86971081130,0.003,0.002,0,4077190502565948800,276.13315856482,2.2725,-24.86971081129,2.9281,,,,,,,0,7.55992e+03,6.98355e+01,15.992073,,,,,,,,,,,,,,\\n1.653262,J1824-2452A,276.1333649511041,-24.869675953398374,-0.6407616182873535,0.8784191230792192,54500,54500,54500,119.89365436191608,276.13300994500,-24.86934859760,0.005,0.003,0,4077190502565967616,276.13300994472,3.1851,-24.86934859764,5.0394,,,,,,,0,3.70384e+03,7.37043e+01,16.766735,,,,,,,,,,,,,,\\n2.076716,J1824-2452A,276.1333649511041,-24.869675953398374,-0.6407616182873535,0.8784191230792192,54500,54500,54500,119.89365436191608,276.13351126100,-24.86911456810,0.005,0.003,0,4077190502565966976,276.13351126070,2.6362,-24.86911456814,4.6499,,,,,,,0,8.68702e+03,5.16175e+01,15.841188,1.52056e+04,8.00211e+02,14.896379,2.04269e+04,6.44781e+02,13.986412,0.909966,,,5095.63,,,,\\n1.485199,J1843-1113,280.92192171695217,-11.225302588441892,-1.8561242239606754,-3.7551222039556307,55000,55000,55000,59.96516826321845,280.92234144700,-11.22527604090,0.034,0.028,0,4106823440438736384,280.92232721974,0.6667,-11.22530736113,0.6444,0.7869,0.6431,-3.241,1.830,-7.274,2.171,0,2.25837e+02,1.40161e+00,19.803880,1.05257e+02,1.70187e+01,20.295761,2.90324e+02,2.42939e+01,18.604713,1.691048,,,,,,,\\n1.544935,J1853+1303,283.4888256784536,13.062236957426395,-1.6028669163985707,-2.8622861992163515,55000,55000,55000,30.548208639277437,283.48926151700,13.06229953800,0.017,0.009,0,4506162043520360576,283.48926151706,9.0836,13.06229953797,16.6591,,,,,,,0,7.32602e+01,1.41134e+00,21.026196,,,,,,,,,,,,,,\\n1.057952,J1910+1256,287.540422990616,12.94040243356994,0.2506101280152715,-6.934721357783575,55000,55000,55000,38.092129555957015,287.54072446200,12.94039647610,0.020,0.020,0,4314046781982561920,287.54072149288,0.5764,12.94037301469,0.6235,-0.4219,0.7972,-0.672,1.310,-5.449,1.317,0,1.29228e+02,6.67511e-01,20.409973,9.63201e+01,1.89414e+01,20.392096,2.01369e+02,7.86526e+00,19.001938,1.390158,,,,,,,\\n2.081449,J1910+1256,287.540422990616,12.94040243356994,0.2506101280152715,-6.934721357783575,55000,55000,55000,38.092129555957015,287.54053522300,12.94097017300,0.019,0.015,0,4314046781986637440,287.54053522258,15.4101,12.94097017300,19.2058,,,,,,,0,5.97947e+01,1.99205e+00,21.246710,,,,,,,,,,,,,,\\n2.652569,J1910+1256,287.540422990616,12.94040243356994,0.2506101280152715,-6.934721357783575,55000,55000,55000,38.092129555957015,287.53981121000,12.94083533650,0.006,0.004,0,4314046781987298560,287.53981121029,4.2582,12.94083533655,5.8823,,,,,,,0,6.51001e+01,1.13199e+00,21.154411,,,,,,,,,,,,,,\\n2.138534,J1939+2134,294.9106718573495,21.58308983479312,0.06311944159225188,-0.40889669598227496,55000,55000,55000,71.02563769939115,294.91098664500,21.58360674630,0.006,0.005,0,1826171887549517696,294.91097795830,0.1614,21.58358724957,0.1961,-0.3643,0.2987,-1.876,0.328,-4.528,0.398,0,5.85564e+02,1.17473e+00,18.769430,4.91151e+01,1.11330e+01,21.123350,1.01133e+03,9.79588e+00,17.249687,3.873663,,,,,,,\\n0.116353,J1955+2908,298.86614749111067,29.14539910908473,-0.8116245289559626,-4.065468091229381,55000,55000,55000,104.46602422967284,298.86611669900,29.14541703500,0.005,0.005,0,2028584968839606784,298.86610145561,0.1255,29.14538274994,0.1655,0.6034,0.1942,-3.092,0.290,-7.963,0.323,0,6.17344e+02,1.12753e+00,18.712048,1.04587e+02,6.74668e+00,20.302694,8.94531e+02,8.64379e+00,17.382930,2.919764,,,,,,,\\n'"
      ]
     },
     "execution_count": 16,
     "metadata": {},
     "output_type": "execute_result"
    }
   ],
   "source": [
    "r.text"
   ]
  },
  {
   "cell_type": "code",
   "execution_count": null,
   "metadata": {
    "collapsed": true
   },
   "outputs": [],
   "source": []
  },
  {
   "cell_type": "code",
   "execution_count": null,
   "metadata": {
    "collapsed": true
   },
   "outputs": [],
   "source": []
  }
 ],
 "metadata": {
  "kernelspec": {
   "display_name": "Python 3",
   "language": "python",
   "name": "python3"
  },
  "language_info": {
   "codemirror_mode": {
    "name": "ipython",
    "version": 3
   },
   "file_extension": ".py",
   "mimetype": "text/x-python",
   "name": "python",
   "nbconvert_exporter": "python",
   "pygments_lexer": "ipython3",
   "version": "3.6.0"
  }
 },
 "nbformat": 4,
 "nbformat_minor": 2
}
