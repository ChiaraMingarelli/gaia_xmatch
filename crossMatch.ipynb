{
 "cells": [
  {
   "cell_type": "markdown",
   "metadata": {},
   "source": [
    "# GAIA DR2 cross-match"
   ]
  },
  {
   "cell_type": "code",
   "execution_count": 1,
   "metadata": {
    "collapsed": true
   },
   "outputs": [],
   "source": [
    "# Authors: Lauren Anderson, Megan Bedell, Chiara Mingarelli\n",
    "# Please cite Mingarelli, Anderson, Bedell and Spergel (in prep)"
   ]
  },
  {
   "cell_type": "code",
   "execution_count": 12,
   "metadata": {
    "collapsed": true
   },
   "outputs": [],
   "source": [
    "# %load query.py\n",
    "import numpy as np\n",
    "from astropy import units as u\n",
    "from astropy.io import ascii\n",
    "from astroquery.xmatch import XMatch\n",
    "import requests"
   ]
  },
  {
   "cell_type": "code",
   "execution_count": 2,
   "metadata": {
    "collapsed": true
   },
   "outputs": [],
   "source": [
    "# %load query.py\n",
    "import numpy as np\n",
    "import glob\n",
    "\n",
    "from astropy import units as u\n",
    "from astropy.io import ascii\n",
    "from astroquery.xmatch import XMatch\n",
    "from astropy.table import Table, vstack\n",
    "from astropy.coordinates import SkyCoord, ICRS, Galactic, Angle\n",
    "from astropy.time import Time"
   ]
  },
  {
   "cell_type": "markdown",
   "metadata": {},
   "source": [
    "## Upload your files with the info you'd like to cross-match with GAIA DR2"
   ]
  },
  {
   "cell_type": "code",
   "execution_count": 3,
   "metadata": {
    "collapsed": true
   },
   "outputs": [],
   "source": [
    "files = glob.glob('IPTA_DR1/*/*.par') # We are interested in pulsars, these files contain their parameters"
   ]
  },
  {
   "cell_type": "markdown",
   "metadata": {},
   "source": [
    "## Here we parse the pulsar .par files to get the known pulsar positions and proper motions. This is specific to the pulsar data format used by the International Pulsar Timing Array."
   ]
  },
  {
   "cell_type": "code",
   "execution_count": 4,
   "metadata": {
    "collapsed": true
   },
   "outputs": [],
   "source": [
    "RAs = []\n",
    "DECs = []\n",
    "Names = []\n",
    "pmra = []\n",
    "pmdec = []\n",
    "pepoch = []\n",
    "posepoch = []\n",
    "dmepoch = []\n",
    "dm = []\n",
    "coords = []\n",
    "\n",
    "for file in files:\n",
    "    d = {}\n",
    "    with open(file) as f:\n",
    "        for line in f:\n",
    "            key = line.split()[0]\n",
    "            value = line.split()[1]\n",
    "            d[key] = value\n",
    "            \n",
    "    try:\n",
    "        ra = Angle(d['RAJ'], u.hourangle).to(u.deg)\n",
    "        dec = Angle(d['DECJ'], u.degree)\n",
    "        coord = SkyCoord(ra=ra, dec=dec, frame='icrs',\n",
    "                     pm_ra_cosdec = float(d['PMRA'])*u.mas/u.yr, # bug updated, thanks Paul Ray\n",
    "                     pm_dec=float(d['PMDEC'])*u.mas/u.yr,\n",
    "                     obstime=Time(float(d['POSEPOCH']), format='mjd'),\n",
    "                     distance=1. * u.kpc) # HACK\n",
    "        coords.append(coord)\n",
    "        RAs.append(ra.value)\n",
    "        #print(d['PSRJ'], d['DECJ'])\n",
    "        DECs.append(dec.value)\n",
    "        Names.append(d['PSRJ'])\n",
    "        pmra.append(coord.pm_ra_cosdec.value)\n",
    "        pmdec.append(coord.pm_dec.value)\n",
    "        pepoch.append(d['PEPOCH'])\n",
    "        posepoch.append(d['POSEPOCH'])\n",
    "        dmepoch.append(d['DMEPOCH'])\n",
    "        dm.append(d['DM'])\n",
    "        \n",
    "    except KeyError:\n",
    "        lon = float(d['ELONG'])*u.deg\n",
    "        lat = float(d['ELAT'])*u.deg\n",
    "        coord = SkyCoord(l=lon, b=lat, frame='galactic',\n",
    "                         pm_l_cosb = float(d['PMELONG'])*u.mas/u.yr, \n",
    "                         pm_b=float(d['PMELAT'])*u.mas/u.yr,\n",
    "                         obstime=Time(float(d['POSEPOCH']), format='mjd'),\n",
    "                         distance=1. * u.kpc) # HACKITY HACK HACK\n",
    "        icrscoord = coord.transform_to(ICRS)\n",
    "        coords.append(icrscoord)\n",
    "        #print(icrscoord)\n",
    "        #print(d['PSRJ'])\n",
    "        RAs.append(icrscoord.ra.to(u.deg).value)\n",
    "        DECs.append(icrscoord.dec.to(u.deg).value)\n",
    "        Names.append(d['PSRJ'])\n",
    "        pmra.append(icrscoord.pm_ra_cosdec.value)\n",
    "        pmdec.append(icrscoord.pm_dec.value)\n",
    "        pepoch.append(d['PEPOCH'])\n",
    "        posepoch.append(d['POSEPOCH'])\n",
    "        dmepoch.append(d['DMEPOCH'])\n",
    "        dm.append(d['DM'])        \n",
    "        #coord = SkyCoord(d[''])\n",
    "        \n",
    "        continue\n",
    "        \n",
    "t = Table([Names, RAs, DECs, pmra, pmdec, pepoch, posepoch, dmepoch, dm], names=['names', 'ra', 'dec', 'pmra', 'pmdec', 'dm', 'pepoch', 'posepoch', 'dmepoch'])        \n",
    "#tmin = Table([RAs, DECs], names=['ra', 'dec'])\n"
   ]
  },
  {
   "cell_type": "code",
   "execution_count": 5,
   "metadata": {},
   "outputs": [],
   "source": [
    "filename = 'ipta_data_nopm'\n",
    "t.write(filename+'.csv', format='csv', overwrite=True)\n",
    "t.write(filename+'.vot', format='votable', overwrite=True)"
   ]
  },
  {
   "cell_type": "markdown",
   "metadata": {},
   "source": [
    "## Here we propagate the pulsar proper motion to update them to the GAIA DR2 reference epoch... or rather J2000 since this seems to be what XMatch uses?"
   ]
  },
  {
   "cell_type": "code",
   "execution_count": 8,
   "metadata": {
    "collapsed": true
   },
   "outputs": [],
   "source": [
    "j2000_time = Time('J2000.000')\n",
    "gaia_time = Time(57023., format='mjd')"
   ]
  },
  {
   "cell_type": "code",
   "execution_count": 9,
   "metadata": {
    "collapsed": true
   },
   "outputs": [],
   "source": [
    "t['ra'] = [c.apply_space_motion(new_obstime=gaia_time).ra.value for c in coords]\n",
    "t['dec'] = [c.apply_space_motion(new_obstime=gaia_time).dec.value for c in coords]"
   ]
  },
  {
   "cell_type": "code",
   "execution_count": 17,
   "metadata": {
    "collapsed": true
   },
   "outputs": [],
   "source": [
    "filename = 'ipta_data_j2000_updatedpm'\n",
    "t.write(filename+'.csv', format='csv', overwrite=True)\n",
    "t.write(filename+'.vot', format='votable', overwrite=True)"
   ]
  },
  {
   "cell_type": "markdown",
   "metadata": {},
   "source": [
    "# We tell the x-match server that we want to search GAIA DR2 for objcts at the RA and DEC we specifiy in our file, within a 3 arsecond search radius."
   ]
  },
  {
   "cell_type": "code",
   "execution_count": 18,
   "metadata": {
    "collapsed": true
   },
   "outputs": [],
   "source": [
    "filename = 'ipta_data_j2000'\n",
    "r = requests.post(\n",
    "'http://cdsxmatch.u-strasbg.fr/xmatch/api/v1/sync',\n",
    "data={'request': 'xmatch', 'distMaxArcsec': 3.0, 'RESPONSEFORMAT': 'csv',\n",
    "'cat2': 'vizier:I/345/gaia2', 'colRA1': 'ra', 'colDec1': 'dec'},\n",
    "files={'cat1': open(filename+'.csv', 'r')})"
   ]
  },
  {
   "cell_type": "code",
   "execution_count": 19,
   "metadata": {
    "collapsed": true
   },
   "outputs": [],
   "source": [
    "h = open('xmatch_j2000.csv', 'w')\n",
    "h.write(r.text)\n",
    "h.close()"
   ]
  },
  {
   "cell_type": "markdown",
   "metadata": {},
   "source": [
    "And for comparison, here it is without PM propagation:"
   ]
  },
  {
   "cell_type": "code",
   "execution_count": 20,
   "metadata": {
    "collapsed": true
   },
   "outputs": [],
   "source": [
    "filename = 'ipta_data_nopm'\n",
    "r = requests.post(\n",
    "'http://cdsxmatch.u-strasbg.fr/xmatch/api/v1/sync',\n",
    "data={'request': 'xmatch', 'distMaxArcsec': 3.0, 'RESPONSEFORMAT': 'csv',\n",
    "'cat2': 'vizier:I/345/gaia2', 'colRA1': 'ra', 'colDec1': 'dec'},\n",
    "files={'cat1': open(filename+'.csv', 'r')})"
   ]
  },
  {
   "cell_type": "code",
   "execution_count": 21,
   "metadata": {},
   "outputs": [],
   "source": [
    "h = open('xmatch_nopm.csv', 'w')\n",
    "h.write(r.text)\n",
    "h.close()"
   ]
  },
  {
   "cell_type": "markdown",
   "metadata": {
    "slideshow": {
     "slide_type": "-"
    }
   },
   "source": [
    "## A crossmatch using Gaia Archive"
   ]
  },
  {
   "cell_type": "code",
   "execution_count": 53,
   "metadata": {},
   "outputs": [
    {
     "name": "stdout",
     "output_type": "stream",
     "text": [
      "Launched query: 'SELECT * , distance(POINT('ICRS', ipta.ra, ipta.dec), POINT('ICRS', gaia.ra, gaia.dec)) AS angDist\n",
      "FROM gaiadr2.gaia_source AS gaia, user_lander01.ipta as ipta\n",
      "WHERE 1=CONTAINS(POINT('ICRS', ipta.ra, ipta.dec), CIRCLE('ICRS', gaia.ra, gaia.dec, 0.0008333333333333333))\n",
      "'\n",
      "Retrieving async. results...\n"
     ]
    },
    {
     "name": "stderr",
     "output_type": "stream",
     "text": [
      "WARNING: W27: None:3:0: W27: COOSYS deprecated in VOTable 1.2 [astropy.io.votable.tree]\n",
      "WARNING: W35: None:5:0: W35: 'value' attribute required for INFO elements [astropy.io.votable.tree]\n",
      "WARNING: W35: None:9:0: W35: 'value' attribute required for INFO elements [astropy.io.votable.tree]\n",
      "WARNING: W35: None:10:0: W35: 'value' attribute required for INFO elements [astropy.io.votable.tree]\n",
      "WARNING: W35: None:11:0: W35: 'value' attribute required for INFO elements [astropy.io.votable.tree]\n",
      "WARNING: W35: None:13:0: W35: 'value' attribute required for INFO elements [astropy.io.votable.tree]\n",
      "WARNING: W06: None:48:0: W06: Invalid UCD 'arith.ratio': Secondary word 'arith.ratio' is not valid as a primary word [astropy.io.votable.tree]\n"
     ]
    },
    {
     "name": "stdout",
     "output_type": "stream",
     "text": [
      "Query finished.\n"
     ]
    },
    {
     "name": "stderr",
     "output_type": "stream",
     "text": [
      "WARNING: W50: None:51:0: W50: Invalid unit string 'mas.yr**-1' [astropy.io.votable.tree]\n",
      "WARNING: W50: None:54:0: W50: Invalid unit string 'mas.yr**-1' [astropy.io.votable.tree]\n",
      "WARNING: W50: None:57:0: W50: Invalid unit string 'mas.yr**-1' [astropy.io.votable.tree]\n",
      "WARNING: W50: None:60:0: W50: Invalid unit string 'mas.yr**-1' [astropy.io.votable.tree]\n",
      "WARNING: W50: None:123:0: W50: Invalid unit string 'mas**-2' [astropy.io.votable.tree]\n",
      "WARNING: W50: None:126:0: W50: Invalid unit string 'um**-1' [astropy.io.votable.tree]\n",
      "WARNING: W06: None:129:0: W06: Invalid UCD 'em.wavenumber;stat.error': Primary word 'stat.error' is not valid as a secondary word [astropy.io.votable.tree]\n",
      "WARNING: W50: None:129:0: W50: Invalid unit string 'um**-1' [astropy.io.votable.tree]\n",
      "WARNING: W06: None:141:0: W06: Invalid UCD 'pos.errorEllipse;stat.max': Secondary word 'pos.errorEllipse' is not valid as a primary word [astropy.io.votable.tree]\n",
      "WARNING: W50: None:156:0: W50: Invalid unit string ''electron'.s**-1' [astropy.io.votable.tree]\n",
      "WARNING: W50: None:159:0: W50: Invalid unit string ''electron'.s**-1' [astropy.io.votable.tree]\n",
      "WARNING: W06: None:162:0: W06: Invalid UCD 'arith.ratio': Secondary word 'arith.ratio' is not valid as a primary word [astropy.io.votable.tree]\n",
      "WARNING: W50: None:171:0: W50: Invalid unit string ''electron'.s**-1' (suppressing further warnings of this type...) [astropy.io.votable.tree]\n",
      "WARNING: W06: None:177:0: W06: Invalid UCD 'arith.ratio': Secondary word 'arith.ratio' is not valid as a primary word [astropy.io.votable.tree]\n",
      "WARNING: W06: None:192:0: W06: Invalid UCD 'arith.ratio': Secondary word 'arith.ratio' is not valid as a primary word [astropy.io.votable.tree]\n",
      "WARNING: W06: None:204:0: W06: Invalid UCD 'phot.color': Unknown word 'phot.color' [astropy.io.votable.tree]\n",
      "WARNING: W06: None:207:0: W06: Invalid UCD 'phot.color': Unknown word 'phot.color' [astropy.io.votable.tree]\n",
      "WARNING: W06: None:210:0: W06: Invalid UCD 'phot.color': Unknown word 'phot.color' [astropy.io.votable.tree]\n",
      "WARNING: W06: None:282:0: W06: Invalid UCD 'phys.size.radius;stat.error': Primary word 'stat.error' is not valid as a secondary word (suppressing further warnings of this type...) [astropy.io.votable.tree]\n",
      "WARNING: W32: None:307:0: W32: Duplicate ID 'ra' renamed to 'ra_2' to ensure uniqueness [astropy.io.votable.tree]\n",
      "WARNING: W32: None:308:0: W32: Duplicate ID 'dec' renamed to 'dec_2' to ensure uniqueness [astropy.io.votable.tree]\n",
      "WARNING: W32: None:309:0: W32: Duplicate ID 'pmra' renamed to 'pmra_2' to ensure uniqueness [astropy.io.votable.tree]\n",
      "WARNING: W32: None:310:0: W32: Duplicate ID 'pmdec' renamed to 'pmdec_2' to ensure uniqueness [astropy.io.votable.tree]\n",
      "WARNING: W33: None:307:0: W33: Column name 'ra' renamed to 'ra 2' to ensure uniqueness [astropy.io.votable.tree]\n",
      "WARNING: W33: None:308:0: W33: Column name 'dec' renamed to 'dec 2' to ensure uniqueness [astropy.io.votable.tree]\n",
      "WARNING: W33: None:309:0: W33: Column name 'pmra' renamed to 'pmra 2' to ensure uniqueness [astropy.io.votable.tree]\n",
      "WARNING: W33: None:310:0: W33: Column name 'pmdec' renamed to 'pmdec 2' to ensure uniqueness [astropy.io.votable.tree]\n"
     ]
    }
   ],
   "source": [
    "from astroquery.gaia import Gaia\n",
    "Gaia.login(user='lander01', password='EsaGaia1234!')\n",
    "\n",
    "jobname = 'iptaCrossmatchGaiaArchive'\n",
    "iptaFilename = 'ipta_data_j2000_updatedpm.vot'\n",
    "\n",
    "maxAngSep = 3*u.arcsecond.to(u.deg)\n",
    "\n",
    "query = \"\"\"SELECT * , distance(POINT('ICRS', ipta.ra, ipta.dec), POINT('ICRS', gaia.ra, gaia.dec)) AS angDist\n",
    "FROM gaiadr2.gaia_source AS gaia, user_lander01.ipta as ipta\n",
    "WHERE 1=CONTAINS(POINT('ICRS', ipta.ra, ipta.dec), CIRCLE('ICRS', gaia.ra, gaia.dec, {0}))\n",
    "\"\"\"\n",
    "\n",
    "job = Gaia.launch_job_async(query.format(maxAngSep), name=jobname) #, upload_resource=iptaFilename, upload_table_name='user_lander01.ipta')\n",
    "jobid = job.get_jobid()\n",
    "tbl = job.get_results()\n",
    "\n",
    "#astropy tables doesn't like 'O' columns\n",
    "failed_type = tbl[\"designation\"].dtype\n",
    "for name in tbl.dtype.names:\n",
    "    if tbl[name].dtype == failed_type:\n",
    "        tbl[name] = tbl[name].astype(str)\n",
    "\n",
    "#create new columns for angular distance in arseconds\n",
    "tbl['angdist-arcsec'] = tbl['angdist']*u.deg.to(u.arcsecond)\n",
    "tbl.write('xmatchGaiaArchive.csv')"
   ]
  },
  {
   "cell_type": "code",
   "execution_count": null,
   "metadata": {},
   "outputs": [],
   "source": [
    "#The struggle is real to access Coryn's distances via python\n",
    "\n",
    "#SELECT source_id, ra, dec, phot_g_mean_mag, r_est, r_lo, r_hi, teff_val\n",
    "#FROM gaiadr2_complements.geometric_distance\n",
    "#JOIN gaiadr2.gaia_source USING (source_id)\n",
    "\n",
    "#SELECT *\n",
    "#FROM gaiadr2_complements.geometric_distance\n",
    "#JOIN TAP_UPLOAD.t1 USING (source_id)\n",
    "\n",
    "#Finally, I calculate \"semimajor-axis\" as angdist-arcsec*r_est.\n",
    "\n",
    "from pyvo.dal import TAPService\n",
    "tap = TAPService(\"http://dc.zah.uni-heidelberg.de/__system__/tap/run/tap\")\n"
   ]
  }
 ],
 "metadata": {
  "kernelspec": {
   "display_name": "Python 3",
   "language": "python",
   "name": "python3"
  },
  "language_info": {
   "codemirror_mode": {
    "name": "ipython",
    "version": 3
   },
   "file_extension": ".py",
   "mimetype": "text/x-python",
   "name": "python",
   "nbconvert_exporter": "python",
   "pygments_lexer": "ipython3",
   "version": "3.6.3"
  }
 },
 "nbformat": 4,
 "nbformat_minor": 2
}
